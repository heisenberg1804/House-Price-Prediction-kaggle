{
 "cells": [
  {
   "cell_type": "code",
   "execution_count": 53,
   "metadata": {},
   "outputs": [],
   "source": [
    "import numpy as np\n",
    "import pandas as pd\n",
    "import matplotlib.pyplot as plt\n",
    "import seaborn as sns\n"
   ]
  },
  {
   "cell_type": "code",
   "execution_count": 54,
   "metadata": {},
   "outputs": [],
   "source": [
    "pd.set_option('display.max_columns', 100)"
   ]
  },
  {
   "cell_type": "code",
   "execution_count": 55,
   "metadata": {},
   "outputs": [],
   "source": [
    "df_test = pd.read_csv('test.csv')\n"
   ]
  },
  {
   "cell_type": "code",
   "execution_count": 56,
   "metadata": {},
   "outputs": [
    {
     "data": {
      "text/plain": [
       "(1459, 80)"
      ]
     },
     "execution_count": 56,
     "metadata": {},
     "output_type": "execute_result"
    }
   ],
   "source": [
    "df_test.shape"
   ]
  },
  {
   "cell_type": "markdown",
   "metadata": {},
   "source": [
    "## Null Values"
   ]
  },
  {
   "cell_type": "code",
   "execution_count": 57,
   "metadata": {},
   "outputs": [
    {
     "name": "stdout",
     "output_type": "stream",
     "text": [
      "['MSZoning', 'Alley', 'Utilities', 'MasVnrType', 'BsmtQual', 'BsmtCond', 'BsmtExposure', 'BsmtFinType1', 'BsmtFinType2', 'Functional', 'FireplaceQu', 'GarageType', 'GarageFinish', 'GarageQual', 'GarageCond', 'PoolQC', 'Fence', 'MiscFeature']\n"
     ]
    },
    {
     "data": {
      "text/plain": [
       "MSZoning        0.002742\n",
       "Alley           0.926662\n",
       "Utilities       0.001371\n",
       "MasVnrType      0.010966\n",
       "BsmtQual        0.030158\n",
       "BsmtCond        0.030843\n",
       "BsmtExposure    0.030158\n",
       "BsmtFinType1    0.028787\n",
       "BsmtFinType2    0.028787\n",
       "Functional      0.001371\n",
       "FireplaceQu     0.500343\n",
       "GarageType      0.052090\n",
       "GarageFinish    0.053461\n",
       "GarageQual      0.053461\n",
       "GarageCond      0.053461\n",
       "PoolQC          0.997944\n",
       "Fence           0.801234\n",
       "MiscFeature     0.965045\n",
       "dtype: float64"
      ]
     },
     "execution_count": 57,
     "metadata": {},
     "output_type": "execute_result"
    }
   ],
   "source": [
    "#EDA- Nan values\n",
    "cat_with_na = [var for var in df_test.columns if df_test[var].isnull().sum() > 1 and df_test[var].dtypes == 'O']\n",
    "print(cat_with_na)\n",
    "df_test[cat_with_na].isnull().mean()"
   ]
  },
  {
   "cell_type": "code",
   "execution_count": 58,
   "metadata": {},
   "outputs": [
    {
     "data": {
      "text/plain": [
       "MSZoning        0.0\n",
       "Alley           0.0\n",
       "Utilities       0.0\n",
       "MasVnrType      0.0\n",
       "BsmtQual        0.0\n",
       "BsmtCond        0.0\n",
       "BsmtExposure    0.0\n",
       "BsmtFinType1    0.0\n",
       "BsmtFinType2    0.0\n",
       "Functional      0.0\n",
       "FireplaceQu     0.0\n",
       "GarageType      0.0\n",
       "GarageFinish    0.0\n",
       "GarageQual      0.0\n",
       "GarageCond      0.0\n",
       "PoolQC          0.0\n",
       "Fence           0.0\n",
       "MiscFeature     0.0\n",
       "dtype: float64"
      ]
     },
     "execution_count": 58,
     "metadata": {},
     "output_type": "execute_result"
    }
   ],
   "source": [
    "def replace_cat_with_missing(dataset, cat_with_na):\n",
    "    data = dataset.copy()\n",
    "    data[cat_with_na] = data[cat_with_na].fillna('Missing')\n",
    "    return data\n",
    "\n",
    "df_test = replace_cat_with_missing(df_test, cat_with_na)\n",
    "df_test[cat_with_na].isnull().mean()"
   ]
  },
  {
   "cell_type": "markdown",
   "metadata": {},
   "source": [
    "## Numeric data with Na"
   ]
  },
  {
   "cell_type": "code",
   "execution_count": 59,
   "metadata": {},
   "outputs": [
    {
     "name": "stdout",
     "output_type": "stream",
     "text": [
      "['LotFrontage', 'MasVnrArea', 'BsmtFinSF1', 'BsmtFinSF2', 'BsmtUnfSF', 'TotalBsmtSF', 'BsmtFullBath', 'BsmtHalfBath', 'GarageYrBlt', 'GarageCars', 'GarageArea']\n"
     ]
    },
    {
     "data": {
      "text/plain": [
       "LotFrontage     0.155586\n",
       "MasVnrArea      0.010281\n",
       "BsmtFinSF1      0.000685\n",
       "BsmtFinSF2      0.000685\n",
       "BsmtUnfSF       0.000685\n",
       "TotalBsmtSF     0.000685\n",
       "BsmtFullBath    0.001371\n",
       "BsmtHalfBath    0.001371\n",
       "GarageYrBlt     0.053461\n",
       "GarageCars      0.000685\n",
       "GarageArea      0.000685\n",
       "dtype: float64"
      ]
     },
     "execution_count": 59,
     "metadata": {},
     "output_type": "execute_result"
    }
   ],
   "source": [
    "num_with_na = [var for var in df_test.columns if df_test[var].isnull().sum() > 0 and df_test[var].dtypes != 'O']\n",
    "print(num_with_na)\n",
    "df_test[num_with_na].isnull().mean()"
   ]
  },
  {
   "cell_type": "code",
   "execution_count": 60,
   "metadata": {},
   "outputs": [
    {
     "data": {
      "text/plain": [
       "LotFrontage     0.0\n",
       "MasVnrArea      0.0\n",
       "BsmtFinSF1      0.0\n",
       "BsmtFinSF2      0.0\n",
       "BsmtUnfSF       0.0\n",
       "TotalBsmtSF     0.0\n",
       "BsmtFullBath    0.0\n",
       "BsmtHalfBath    0.0\n",
       "GarageYrBlt     0.0\n",
       "GarageCars      0.0\n",
       "GarageArea      0.0\n",
       "dtype: float64"
      ]
     },
     "execution_count": 60,
     "metadata": {},
     "output_type": "execute_result"
    }
   ],
   "source": [
    "for var in num_with_na:\n",
    "    #calculate median because there are a lot of outliers\n",
    "    median_value = df_test[var].median()\n",
    "    \n",
    "    df_test[var].fillna(median_value, inplace=True)\n",
    "\n",
    "df_test[num_with_na].isnull().mean()\n"
   ]
  },
  {
   "cell_type": "code",
   "execution_count": 61,
   "metadata": {},
   "outputs": [],
   "source": [
    "year_features = ['YearBuilt', 'YearRemodAdd', 'GarageYrBlt', 'YrSold']"
   ]
  },
  {
   "cell_type": "code",
   "execution_count": 62,
   "metadata": {},
   "outputs": [],
   "source": [
    "for feature in year_features:\n",
    "    if feature != 'YrSold':\n",
    "        df_test[feature] = df_test['YrSold'] - df_test[feature]\n",
    "       "
   ]
  },
  {
   "cell_type": "code",
   "execution_count": 63,
   "metadata": {},
   "outputs": [
    {
     "data": {
      "text/html": [
       "<div>\n",
       "<style scoped>\n",
       "    .dataframe tbody tr th:only-of-type {\n",
       "        vertical-align: middle;\n",
       "    }\n",
       "\n",
       "    .dataframe tbody tr th {\n",
       "        vertical-align: top;\n",
       "    }\n",
       "\n",
       "    .dataframe thead th {\n",
       "        text-align: right;\n",
       "    }\n",
       "</style>\n",
       "<table border=\"1\" class=\"dataframe\">\n",
       "  <thead>\n",
       "    <tr style=\"text-align: right;\">\n",
       "      <th></th>\n",
       "      <th>YearBuilt</th>\n",
       "      <th>YearRemodAdd</th>\n",
       "      <th>GarageYrBlt</th>\n",
       "    </tr>\n",
       "  </thead>\n",
       "  <tbody>\n",
       "    <tr>\n",
       "      <th>0</th>\n",
       "      <td>49</td>\n",
       "      <td>49</td>\n",
       "      <td>49.0</td>\n",
       "    </tr>\n",
       "    <tr>\n",
       "      <th>1</th>\n",
       "      <td>52</td>\n",
       "      <td>52</td>\n",
       "      <td>52.0</td>\n",
       "    </tr>\n",
       "    <tr>\n",
       "      <th>2</th>\n",
       "      <td>13</td>\n",
       "      <td>12</td>\n",
       "      <td>13.0</td>\n",
       "    </tr>\n",
       "    <tr>\n",
       "      <th>3</th>\n",
       "      <td>12</td>\n",
       "      <td>12</td>\n",
       "      <td>12.0</td>\n",
       "    </tr>\n",
       "    <tr>\n",
       "      <th>4</th>\n",
       "      <td>18</td>\n",
       "      <td>18</td>\n",
       "      <td>18.0</td>\n",
       "    </tr>\n",
       "  </tbody>\n",
       "</table>\n",
       "</div>"
      ],
      "text/plain": [
       "   YearBuilt  YearRemodAdd  GarageYrBlt\n",
       "0         49            49         49.0\n",
       "1         52            52         52.0\n",
       "2         13            12         13.0\n",
       "3         12            12         12.0\n",
       "4         18            18         18.0"
      ]
     },
     "execution_count": 63,
     "metadata": {},
     "output_type": "execute_result"
    }
   ],
   "source": [
    "df_test[['YearBuilt', 'YearRemodAdd', 'GarageYrBlt']].head()"
   ]
  },
  {
   "cell_type": "code",
   "execution_count": 64,
   "metadata": {},
   "outputs": [
    {
     "data": {
      "text/plain": [
       "MSZoning        0.0\n",
       "Alley           0.0\n",
       "Utilities       0.0\n",
       "MasVnrType      0.0\n",
       "BsmtQual        0.0\n",
       "BsmtCond        0.0\n",
       "BsmtExposure    0.0\n",
       "BsmtFinType1    0.0\n",
       "BsmtFinType2    0.0\n",
       "Functional      0.0\n",
       "FireplaceQu     0.0\n",
       "GarageType      0.0\n",
       "GarageFinish    0.0\n",
       "GarageQual      0.0\n",
       "GarageCond      0.0\n",
       "PoolQC          0.0\n",
       "Fence           0.0\n",
       "MiscFeature     0.0\n",
       "dtype: float64"
      ]
     },
     "execution_count": 64,
     "metadata": {},
     "output_type": "execute_result"
    }
   ],
   "source": [
    "df_test[cat_with_na].isnull().mean()"
   ]
  },
  {
   "cell_type": "code",
   "execution_count": 65,
   "metadata": {},
   "outputs": [],
   "source": [
    "cols = df_test.columns"
   ]
  },
  {
   "cell_type": "code",
   "execution_count": 66,
   "metadata": {},
   "outputs": [
    {
     "name": "stdout",
     "output_type": "stream",
     "text": [
      "Index(['Id', 'MSSubClass', 'LotFrontage', 'LotArea', 'OverallQual',\n",
      "       'OverallCond', 'YearBuilt', 'YearRemodAdd', 'MasVnrArea', 'BsmtFinSF1',\n",
      "       'BsmtFinSF2', 'BsmtUnfSF', 'TotalBsmtSF', '1stFlrSF', '2ndFlrSF',\n",
      "       'LowQualFinSF', 'GrLivArea', 'BsmtFullBath', 'BsmtHalfBath', 'FullBath',\n",
      "       'HalfBath', 'BedroomAbvGr', 'KitchenAbvGr', 'TotRmsAbvGrd',\n",
      "       'Fireplaces', 'GarageYrBlt', 'GarageCars', 'GarageArea', 'WoodDeckSF',\n",
      "       'OpenPorchSF', 'EnclosedPorch', '3SsnPorch', 'ScreenPorch', 'PoolArea',\n",
      "       'MiscVal', 'MoSold', 'YrSold'],\n",
      "      dtype='object')\n"
     ]
    }
   ],
   "source": [
    "numeric_cols = df_test._get_numeric_data().columns\n",
    "print(numeric_cols)"
   ]
  },
  {
   "cell_type": "code",
   "execution_count": 67,
   "metadata": {},
   "outputs": [],
   "source": [
    "categorical_cols = list(set(cols)- set(numeric_cols))"
   ]
  },
  {
   "cell_type": "code",
   "execution_count": 68,
   "metadata": {},
   "outputs": [
    {
     "name": "stdout",
     "output_type": "stream",
     "text": [
      "Total number of discrete features is 16\n"
     ]
    }
   ],
   "source": [
    "#discrete features\n",
    "discrete_cols = [feature for feature in numeric_cols if len(df_test[feature].unique())<= 25 and feature not in year_features]\n",
    "print(\"Total number of discrete features is {}\".format(len(discrete_cols)))\n",
    "\n",
    "\n",
    "\n"
   ]
  },
  {
   "cell_type": "code",
   "execution_count": 69,
   "metadata": {},
   "outputs": [
    {
     "name": "stdout",
     "output_type": "stream",
     "text": [
      "16\n"
     ]
    }
   ],
   "source": [
    "continuous_cols = [feature for feature in numeric_cols if feature not in discrete_cols and feature not in year_features and feature != 'Id' ]\n",
    "print(len(continuous_cols))"
   ]
  },
  {
   "cell_type": "code",
   "execution_count": 70,
   "metadata": {},
   "outputs": [],
   "source": [
    "for feature in continuous_cols:\n",
    "    if 0 in df_test[feature].unique():\n",
    "        pass\n",
    "    else:\n",
    "        df_test[feature] = np.log(df_test[feature])\n",
    "       "
   ]
  },
  {
   "cell_type": "code",
   "execution_count": 71,
   "metadata": {},
   "outputs": [
    {
     "name": "stdout",
     "output_type": "stream",
     "text": [
      "No. of Rare values in Electrical is 4\n",
      "No. of Rare values in BsmtExposure is 5\n",
      "No. of Rare values in Condition1 is 7\n",
      "No. of Rare values in BsmtQual is 5\n",
      "No. of Rare values in Utilities is 2\n",
      "No. of Rare values in RoofStyle is 3\n",
      "No. of Rare values in PoolQC is 2\n",
      "No. of Rare values in MSZoning is 5\n",
      "No. of Rare values in GarageType is 7\n",
      "No. of Rare values in FireplaceQu is 6\n",
      "No. of Rare values in ExterCond is 4\n",
      "No. of Rare values in GarageCond is 4\n",
      "No. of Rare values in MasVnrType is 5\n",
      "No. of Rare values in BsmtCond is 5\n",
      "No. of Rare values in GarageFinish is 4\n",
      "No. of Rare values in Condition2 is 2\n",
      "No. of Rare values in Exterior2nd is 12\n",
      "No. of Rare values in BldgType is 5\n",
      "No. of Rare values in BsmtFinType1 is 7\n",
      "No. of Rare values in CentralAir is 2\n",
      "No. of Rare values in KitchenQual is 5\n",
      "No. of Rare values in BsmtFinType2 is 7\n",
      "No. of Rare values in LandContour is 4\n",
      "No. of Rare values in PavedDrive is 3\n",
      "No. of Rare values in GarageQual is 4\n",
      "No. of Rare values in Alley is 3\n",
      "No. of Rare values in SaleCondition is 5\n",
      "No. of Rare values in ExterQual is 4\n",
      "No. of Rare values in Heating is 2\n",
      "No. of Rare values in MiscFeature is 3\n",
      "No. of Rare values in Functional is 5\n",
      "No. of Rare values in HouseStyle is 6\n",
      "No. of Rare values in HeatingQC is 5\n",
      "No. of Rare values in RoofMatl is 2\n",
      "No. of Rare values in SaleType is 5\n",
      "No. of Rare values in Exterior1st is 11\n",
      "No. of Rare values in LotShape is 4\n",
      "No. of Rare values in LotConfig is 5\n",
      "No. of Rare values in Street is 2\n",
      "No. of Rare values in Neighborhood is 21\n",
      "No. of Rare values in LandSlope is 3\n",
      "No. of Rare values in Foundation is 5\n",
      "No. of Rare values in Fence is 5\n"
     ]
    }
   ],
   "source": [
    "for feature in categorical_cols:\n",
    "    temp = df_test.groupby(feature)['Id'].count()/len(df_test)\n",
    "    temp_df = temp[temp > 0.01].index\n",
    "    df_test[feature] = np.where(df_test[feature].isin(temp_df), df_test[feature], 'RareVal')\n",
    "    print(\"No. of Rare values in {} is {}\".format(feature, len(df_test[feature].unique())))"
   ]
  },
  {
   "cell_type": "code",
   "execution_count": 72,
   "metadata": {},
   "outputs": [
    {
     "data": {
      "text/plain": [
       "(1459, 80)"
      ]
     },
     "execution_count": 72,
     "metadata": {},
     "output_type": "execute_result"
    }
   ],
   "source": [
    "df_test.shape"
   ]
  },
  {
   "cell_type": "code",
   "execution_count": 73,
   "metadata": {},
   "outputs": [],
   "source": [
    "df_test.to_csv('formulated_FeatureEngg_houseprice_test.csv', index=False)"
   ]
  },
  {
   "cell_type": "code",
   "execution_count": null,
   "metadata": {},
   "outputs": [],
   "source": []
  },
  {
   "cell_type": "code",
   "execution_count": null,
   "metadata": {},
   "outputs": [],
   "source": []
  },
  {
   "cell_type": "code",
   "execution_count": null,
   "metadata": {},
   "outputs": [],
   "source": []
  }
 ],
 "metadata": {
  "kernelspec": {
   "display_name": "Python 3",
   "language": "python",
   "name": "python3"
  },
  "language_info": {
   "codemirror_mode": {
    "name": "ipython",
    "version": 3
   },
   "file_extension": ".py",
   "mimetype": "text/x-python",
   "name": "python",
   "nbconvert_exporter": "python",
   "pygments_lexer": "ipython3",
   "version": "3.7.3"
  }
 },
 "nbformat": 4,
 "nbformat_minor": 2
}
