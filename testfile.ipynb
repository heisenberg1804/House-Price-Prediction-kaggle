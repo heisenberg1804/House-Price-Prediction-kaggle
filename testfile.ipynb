{
 "cells": [
  {
   "cell_type": "code",
   "execution_count": 1,
   "metadata": {},
   "outputs": [],
   "source": [
    "import numpy as np\n",
    "import pandas as pd\n",
    "import matplotlib.pyplot as plt\n",
    "import seaborn as sns\n"
   ]
  },
  {
   "cell_type": "code",
   "execution_count": 2,
   "metadata": {},
   "outputs": [],
   "source": [
    "pd.set_option('display.max_columns', None)"
   ]
  },
  {
   "cell_type": "code",
   "execution_count": 3,
   "metadata": {},
   "outputs": [],
   "source": [
    "df_test = pd.read_csv('test.csv')"
   ]
  },
  {
   "cell_type": "code",
   "execution_count": 4,
   "metadata": {},
   "outputs": [
    {
     "data": {
      "text/plain": [
       "(1459, 80)"
      ]
     },
     "execution_count": 4,
     "metadata": {},
     "output_type": "execute_result"
    }
   ],
   "source": [
    "df_test.shape"
   ]
  },
  {
   "cell_type": "code",
   "execution_count": 5,
   "metadata": {},
   "outputs": [
    {
     "name": "stdout",
     "output_type": "stream",
     "text": [
      "['MSZoning', 'LotFrontage', 'Alley', 'Utilities', 'Exterior1st', 'Exterior2nd', 'MasVnrType', 'MasVnrArea', 'BsmtQual', 'BsmtCond', 'BsmtExposure', 'BsmtFinType1', 'BsmtFinSF1', 'BsmtFinType2', 'BsmtFinSF2', 'BsmtUnfSF', 'TotalBsmtSF', 'BsmtFullBath', 'BsmtHalfBath', 'KitchenQual', 'Functional', 'FireplaceQu', 'GarageType', 'GarageYrBlt', 'GarageFinish', 'GarageCars', 'GarageArea', 'GarageQual', 'GarageCond', 'PoolQC', 'Fence', 'MiscFeature', 'SaleType']\n"
     ]
    },
    {
     "data": {
      "text/plain": [
       "MSZoning        0.002742\n",
       "LotFrontage     0.155586\n",
       "Alley           0.926662\n",
       "Utilities       0.001371\n",
       "Exterior1st     0.000685\n",
       "Exterior2nd     0.000685\n",
       "MasVnrType      0.010966\n",
       "MasVnrArea      0.010281\n",
       "BsmtQual        0.030158\n",
       "BsmtCond        0.030843\n",
       "BsmtExposure    0.030158\n",
       "BsmtFinType1    0.028787\n",
       "BsmtFinSF1      0.000685\n",
       "BsmtFinType2    0.028787\n",
       "BsmtFinSF2      0.000685\n",
       "BsmtUnfSF       0.000685\n",
       "TotalBsmtSF     0.000685\n",
       "BsmtFullBath    0.001371\n",
       "BsmtHalfBath    0.001371\n",
       "KitchenQual     0.000685\n",
       "Functional      0.001371\n",
       "FireplaceQu     0.500343\n",
       "GarageType      0.052090\n",
       "GarageYrBlt     0.053461\n",
       "GarageFinish    0.053461\n",
       "GarageCars      0.000685\n",
       "GarageArea      0.000685\n",
       "GarageQual      0.053461\n",
       "GarageCond      0.053461\n",
       "PoolQC          0.997944\n",
       "Fence           0.801234\n",
       "MiscFeature     0.965045\n",
       "SaleType        0.000685\n",
       "dtype: float64"
      ]
     },
     "execution_count": 5,
     "metadata": {},
     "output_type": "execute_result"
    }
   ],
   "source": [
    "var_null_test = [var for var in df_test.columns if df_test[var].isnull().sum() > 0]\n",
    "print(var_null_test)\n",
    "df_test[var_null_test].isnull().mean()"
   ]
  },
  {
   "cell_type": "code",
   "execution_count": 6,
   "metadata": {},
   "outputs": [],
   "source": [
    "df_test['LotFrontage']= df_test['LotFrontage'].fillna(df_test['LotFrontage'].mean()) "
   ]
  },
  {
   "cell_type": "code",
   "execution_count": 7,
   "metadata": {},
   "outputs": [],
   "source": [
    "df_test.drop(['Alley','MiscFeature','Fence','PoolQC','Id','FireplaceQu'], axis=1, inplace=True)"
   ]
  },
  {
   "cell_type": "code",
   "execution_count": 8,
   "metadata": {},
   "outputs": [
    {
     "data": {
      "text/plain": [
       "4"
      ]
     },
     "execution_count": 8,
     "metadata": {},
     "output_type": "execute_result"
    }
   ],
   "source": [
    "df_test['MSZoning'].isnull().sum()"
   ]
  },
  {
   "cell_type": "code",
   "execution_count": 9,
   "metadata": {},
   "outputs": [],
   "source": [
    "df_test['MSZoning'] = df_test['MSZoning'].fillna(df_test['MSZoning'].mode()[0])"
   ]
  },
  {
   "cell_type": "code",
   "execution_count": 10,
   "metadata": {},
   "outputs": [
    {
     "data": {
      "text/plain": [
       "0"
      ]
     },
     "execution_count": 10,
     "metadata": {},
     "output_type": "execute_result"
    }
   ],
   "source": [
    "df_test['MSZoning'].isnull().sum()"
   ]
  },
  {
   "cell_type": "code",
   "execution_count": 11,
   "metadata": {},
   "outputs": [
    {
     "data": {
      "text/plain": [
       "(1459, 74)"
      ]
     },
     "execution_count": 11,
     "metadata": {},
     "output_type": "execute_result"
    }
   ],
   "source": [
    "df_test.shape"
   ]
  },
  {
   "cell_type": "code",
   "execution_count": 12,
   "metadata": {},
   "outputs": [],
   "source": [
    "cols = df_test.columns"
   ]
  },
  {
   "cell_type": "code",
   "execution_count": 13,
   "metadata": {},
   "outputs": [
    {
     "name": "stdout",
     "output_type": "stream",
     "text": [
      "Index(['MSSubClass', 'LotFrontage', 'LotArea', 'OverallQual', 'OverallCond',\n",
      "       'YearBuilt', 'YearRemodAdd', 'MasVnrArea', 'BsmtFinSF1', 'BsmtFinSF2',\n",
      "       'BsmtUnfSF', 'TotalBsmtSF', '1stFlrSF', '2ndFlrSF', 'LowQualFinSF',\n",
      "       'GrLivArea', 'BsmtFullBath', 'BsmtHalfBath', 'FullBath', 'HalfBath',\n",
      "       'BedroomAbvGr', 'KitchenAbvGr', 'TotRmsAbvGrd', 'Fireplaces',\n",
      "       'GarageYrBlt', 'GarageCars', 'GarageArea', 'WoodDeckSF', 'OpenPorchSF',\n",
      "       'EnclosedPorch', '3SsnPorch', 'ScreenPorch', 'PoolArea', 'MiscVal',\n",
      "       'MoSold', 'YrSold'],\n",
      "      dtype='object')\n"
     ]
    }
   ],
   "source": [
    "numeric_cols = df_test._get_numeric_data().columns\n",
    "print(numeric_cols)"
   ]
  },
  {
   "cell_type": "code",
   "execution_count": 14,
   "metadata": {},
   "outputs": [
    {
     "name": "stdout",
     "output_type": "stream",
     "text": [
      "['GarageType', 'BsmtCond', 'BsmtQual', 'BsmtFinType1', 'Condition1', 'Heating', 'LandSlope', 'BsmtExposure', 'Neighborhood', 'Foundation', 'BsmtFinType2', 'HeatingQC', 'RoofMatl', 'ExterQual', 'SaleType', 'PavedDrive', 'RoofStyle', 'Electrical', 'MasVnrType', 'ExterCond', 'LandContour', 'BldgType', 'CentralAir', 'LotConfig', 'Exterior2nd', 'Street', 'HouseStyle', 'GarageFinish', 'GarageQual', 'KitchenQual', 'GarageCond', 'Exterior1st', 'SaleCondition', 'MSZoning', 'Utilities', 'Condition2', 'LotShape', 'Functional']\n"
     ]
    }
   ],
   "source": [
    "categorical_cols = list(set(cols) - set(numeric_cols))\n",
    "print(categorical_cols)"
   ]
  },
  {
   "cell_type": "code",
   "execution_count": 15,
   "metadata": {},
   "outputs": [
    {
     "data": {
      "text/plain": [
       "GarageType       0.052090\n",
       "BsmtCond         0.030843\n",
       "BsmtQual         0.030158\n",
       "BsmtFinType1     0.028787\n",
       "Condition1       0.000000\n",
       "Heating          0.000000\n",
       "LandSlope        0.000000\n",
       "BsmtExposure     0.030158\n",
       "Neighborhood     0.000000\n",
       "Foundation       0.000000\n",
       "BsmtFinType2     0.028787\n",
       "HeatingQC        0.000000\n",
       "RoofMatl         0.000000\n",
       "ExterQual        0.000000\n",
       "SaleType         0.000685\n",
       "PavedDrive       0.000000\n",
       "RoofStyle        0.000000\n",
       "Electrical       0.000000\n",
       "MasVnrType       0.010966\n",
       "ExterCond        0.000000\n",
       "LandContour      0.000000\n",
       "BldgType         0.000000\n",
       "CentralAir       0.000000\n",
       "LotConfig        0.000000\n",
       "Exterior2nd      0.000685\n",
       "Street           0.000000\n",
       "HouseStyle       0.000000\n",
       "GarageFinish     0.053461\n",
       "GarageQual       0.053461\n",
       "KitchenQual      0.000685\n",
       "GarageCond       0.053461\n",
       "Exterior1st      0.000685\n",
       "SaleCondition    0.000000\n",
       "MSZoning         0.000000\n",
       "Utilities        0.001371\n",
       "Condition2       0.000000\n",
       "LotShape         0.000000\n",
       "Functional       0.001371\n",
       "dtype: float64"
      ]
     },
     "execution_count": 15,
     "metadata": {},
     "output_type": "execute_result"
    }
   ],
   "source": [
    "df_test[categorical_cols].isnull().mean()"
   ]
  },
  {
   "cell_type": "code",
   "execution_count": null,
   "metadata": {},
   "outputs": [],
   "source": [
    "df_test['Exterior1st']= df_test['Exterior1st'].fillna(df_test['Exterior1st'].mode()[0]) \n",
    "df_test['Exterior2nd']= df_test['Exterior2nd'].fillna(df_test['Exterior2nd'].mode()[0]) \n",
    "\n",
    "df_test['Utilities']= df_test['Utilities'].fillna(df_test['Utilities'].mode()[0])\n",
    "df_test['Functional']= df_test['Functional'].fillna(df_test['Functional'].mode()[0])\n",
    "\n",
    "\n",
    "df_test['GarageCond']= df_test['GarageCond'].fillna(df_test['GarageCond'].mode()[0])\n",
    "df_test['GarageQual']= df_test['GarageQual'].fillna(df_test['GarageQual'].mode()[0])\n",
    "df_test['GarageType']= df_test['GarageType'].fillna(df_test['GarageType'].mode()[0])\n",
    "df_test['GarageFinish']= df_test['GarageFinish'].fillna(df_test['GarageFinish'].mode()[0])\n",
    "\n",
    "\n",
    "df_test['BsmtExposure']= df_test['BsmtExposure'].fillna(df_test['BsmtExposure'].mode()[0])\n",
    "df_test['BsmtQual']= df_test['BsmtQual'].fillna(df_test['BsmtQual'].mode()[0])\n",
    "df_test['BsmtFinType1']= df_test['BsmtFinType1'].fillna(df_test['BsmtFinType1'].mode()[0])\n",
    "df_test['BsmtCond']= df_test['BsmtCond'].fillna(df_test['BsmtCond'].mode()[0])\n",
    "df_test['BsmtFinType2']= df_test['BsmtFinType2'].fillna(df_test['BsmtFinType2'].mode()[0])\n",
    "\n",
    "df_test['KitchenQual']= df_test['KitchenQual'].fillna(df_test['KitchenQual'].mode()[0])\n",
    "df_test['SaleType']= df_test['SaleType'].fillna(df_test['SaleType'].mode()[0])\n",
    "\n",
    "df_test['MasVnrType']= df_test['MasVnrType'].fillna(df_test['MasVnrType'].mode()[0])\n"
   ]
  },
  {
   "cell_type": "code",
   "execution_count": null,
   "metadata": {},
   "outputs": [],
   "source": [
    "df_test[categorical_cols].isnull().mean()"
   ]
  },
  {
   "cell_type": "code",
   "execution_count": null,
   "metadata": {},
   "outputs": [],
   "source": [
    "df_test[numeric_cols].isnull().mean()"
   ]
  },
  {
   "cell_type": "code",
   "execution_count": null,
   "metadata": {},
   "outputs": [],
   "source": [
    "df_test['MasVnrArea'] = df_test['MasVnrArea'].fillna(df_test['MasVnrArea'].mean())\n",
    "df_test['GarageYrBlt'] = df_test['GarageYrBlt'].fillna(df_test['GarageYrBlt'].mean())\n",
    "\n",
    "df_test['BsmtFinSF1'] = df_test['BsmtFinSF1'].fillna(df_test['BsmtFinSF1'].mean())\n",
    "df_test['BsmtFinSF2'] = df_test['BsmtFinSF2'].fillna(df_test['BsmtFinSF2'].mean())\n",
    "df_test['BsmtUnfSF'] = df_test['BsmtUnfSF'].fillna(df_test['BsmtUnfSF'].mean())\n",
    "df_test['TotalBsmtSF'] = df_test['TotalBsmtSF'].fillna(df_test['TotalBsmtSF'].mean())\n",
    "\n",
    "df_test['BsmtFullBath'] = df_test['BsmtFullBath'].fillna(df_test['BsmtFullBath'].mean())\n",
    "df_test['BsmtHalfBath'] = df_test['BsmtHalfBath'].fillna(df_test['BsmtHalfBath'].mean())\n",
    "df_test['GarageCars'] = df_test['GarageCars'].fillna(df_test['GarageCars'].mean())\n",
    "df_test['GarageArea'] = df_test['GarageArea'].fillna(df_test['GarageArea'].mean())\n"
   ]
  },
  {
   "cell_type": "code",
   "execution_count": null,
   "metadata": {},
   "outputs": [],
   "source": [
    "df_test[numeric_cols].isnull().mean()"
   ]
  },
  {
   "cell_type": "code",
   "execution_count": null,
   "metadata": {},
   "outputs": [],
   "source": [
    "#no more null values in test set\n",
    "var_null_test = [var for var in df_test.columns if df_test[var].isnull().sum() > 0]\n",
    "print(var_null_test)\n",
    "df_test[var_null_test].isnull().mean()"
   ]
  },
  {
   "cell_type": "code",
   "execution_count": null,
   "metadata": {},
   "outputs": [],
   "source": [
    "sns.heatmap(df_test.isnull(),yticklabels='False', cbar = 'False')"
   ]
  },
  {
   "cell_type": "code",
   "execution_count": null,
   "metadata": {},
   "outputs": [],
   "source": [
    "df_test.shape"
   ]
  },
  {
   "cell_type": "code",
   "execution_count": null,
   "metadata": {},
   "outputs": [],
   "source": [
    "df_test.to_csv('formulatedtest.csv', index=False)"
   ]
  },
  {
   "cell_type": "code",
   "execution_count": null,
   "metadata": {},
   "outputs": [],
   "source": [
    "test"
   ]
  },
  {
   "cell_type": "code",
   "execution_count": null,
   "metadata": {},
   "outputs": [],
   "source": []
  }
 ],
 "metadata": {
  "kernelspec": {
   "display_name": "Python 3",
   "language": "python",
   "name": "python3"
  },
  "language_info": {
   "codemirror_mode": {
    "name": "ipython",
    "version": 3
   },
   "file_extension": ".py",
   "mimetype": "text/x-python",
   "name": "python",
   "nbconvert_exporter": "python",
   "pygments_lexer": "ipython3",
   "version": "3.7.3"
  }
 },
 "nbformat": 4,
 "nbformat_minor": 2
}
